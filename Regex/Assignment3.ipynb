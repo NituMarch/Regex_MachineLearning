{
  "nbformat": 4,
  "nbformat_minor": 0,
  "metadata": {
    "colab": {
      "name": "Assignment3.ipynb",
      "provenance": [],
      "collapsed_sections": []
    },
    "kernelspec": {
      "name": "python3",
      "display_name": "Python 3"
    },
    "language_info": {
      "name": "python"
    }
  },
  "cells": [
    {
      "cell_type": "markdown",
      "metadata": {
        "id": "qFWYnKdKEgCh"
      },
      "source": [
        "#Task3_Nitesh\n",
        "\n",
        "\n",
        "SIRSS1196\n",
        "\n",
        "Nitesh Marchande"
      ]
    },
    {
      "cell_type": "markdown",
      "metadata": {
        "id": "EUvZp-gq8vbv"
      },
      "source": [
        "Q1. Write a function to return nth term of Fibonacci sequence."
      ]
    },
    {
      "cell_type": "code",
      "metadata": {
        "colab": {
          "base_uri": "https://localhost:8080/"
        },
        "id": "GGJnnAEV8t0I",
        "outputId": "4217638e-f344-4aea-bc9c-4d63c556d3c7"
      },
      "source": [
        "def fibonacci(n):\n",
        "    if n < 0:\n",
        "        print(\"Enter the number\")\n",
        "    elif n == 1:\n",
        "        return 0\n",
        "    elif n == 2:\n",
        "        return 1\n",
        "    else:\n",
        "        return fibonacci(n-1)+fibonacci(n-2)\n",
        "\n",
        "\n",
        "num = int(input(\"Enter the value of n: \"))\n",
        "print(\"The nth term Fibonacci is\" , fibonacci(num))"
      ],
      "execution_count": 1,
      "outputs": [
        {
          "output_type": "stream",
          "text": [
            "Enter the value of n: 5\n",
            "nth term Fibonacci is 3\n"
          ],
          "name": "stdout"
        }
      ]
    },
    {
      "cell_type": "markdown",
      "metadata": {
        "id": "IcoU0nku84x0"
      },
      "source": [
        "Q2. Write a function to find out GCD of two numbers using EUCLID'S algorithm."
      ]
    },
    {
      "cell_type": "code",
      "metadata": {
        "colab": {
          "base_uri": "https://localhost:8080/"
        },
        "id": "NAJAMciP87Vu",
        "outputId": "d806f3d7-2e2e-4aef-f061-e9239ebfdb16"
      },
      "source": [
        "def gcd(n1, n2) :\n",
        "    if n2 == 0 :\n",
        "        return n1\n",
        "    else :\n",
        "        return gcd(n2, n1 % n2)\n",
        "        \n",
        "n1 = int(input(\"Enter 1 NO. : \"))\n",
        "n2 = int(input(\"Enter 2 NO. : \"))\n",
        "\n",
        "print(f\"GCD of ({n1},{n2}) = \", gcd(n1,n2))"
      ],
      "execution_count": 2,
      "outputs": [
        {
          "output_type": "stream",
          "text": [
            "Enter 1 NO. : 36\n",
            "Enter 2 NO. : 22\n",
            "GCD of (36,22) =  2\n"
          ],
          "name": "stdout"
        }
      ]
    },
    {
      "cell_type": "markdown",
      "metadata": {
        "id": "cCPONoAb9IZj"
      },
      "source": [
        "Q3. Write a function to find LCM of two number in most optimizers way."
      ]
    },
    {
      "cell_type": "code",
      "metadata": {
        "colab": {
          "base_uri": "https://localhost:8080/"
        },
        "id": "PSvzxlrM9MA9",
        "outputId": "e598d923-b1a2-4f63-b82f-8b58aeeadb31"
      },
      "source": [
        "def gcd(n1, n2) :\n",
        "    if n2 == 0 :\n",
        "        return n1\n",
        "    else :\n",
        "        return gcd(n2, n1 % n2)\n",
        "    \n",
        "def lcm(n1, n2) :\n",
        "    return (n1 / gcd(n1,n2)) * n2\n",
        "\n",
        "n1 = int(input(\"Enter 1 NO. : \"))\n",
        "n2 = int(input(\"Enter 2 NO. : \"))\n",
        "\n",
        "print(f\"LCM of ({n1},{n2}) = \", lcm(n1,n2))"
      ],
      "execution_count": 3,
      "outputs": [
        {
          "output_type": "stream",
          "text": [
            "Enter 1 NO. : 45\n",
            "Enter 2 NO. : 33\n",
            "LCM of (45,33) =  495.0\n"
          ],
          "name": "stdout"
        }
      ]
    }
  ]
}