{
  "nbformat": 4,
  "nbformat_minor": 0,
  "metadata": {
    "colab": {
      "name": "Task2.ipynb",
      "provenance": [],
      "collapsed_sections": []
    },
    "kernelspec": {
      "name": "python3",
      "display_name": "Python 3"
    },
    "language_info": {
      "name": "python"
    }
  },
  "cells": [
    {
      "cell_type": "code",
      "metadata": {
        "id": "iHQP3eYFgZU9"
      },
      "source": [
        ""
      ],
      "execution_count": null,
      "outputs": []
    },
    {
      "cell_type": "markdown",
      "metadata": {
        "id": "bY5opXbcKIVp"
      },
      "source": [
        "#Task_2\n",
        "\n",
        "SIRSS1196\n",
        "\n",
        "Nitesh Marchande"
      ]
    },
    {
      "cell_type": "markdown",
      "metadata": {
        "id": "pUPIHbiRyLn6"
      },
      "source": [
        "Question 1\n"
      ]
    },
    {
      "cell_type": "markdown",
      "metadata": {
        "id": "Dh3dkTaDJMe4"
      },
      "source": [
        ""
      ]
    },
    {
      "cell_type": "code",
      "metadata": {
        "colab": {
          "base_uri": "https://localhost:8080/"
        },
        "id": "8M-PeECyu8aA",
        "outputId": "8854594d-e02b-40cc-9b04-d09fd4f75fd5"
      },
      "source": [
        "# lambda expression to extract first word of a string.\n",
        "inp= input(\"Enter string\")\n",
        "b=inp\n",
        "b= lambda c: inp[c]\n",
        "\n",
        "print(inp[0])"
      ],
      "execution_count": 1,
      "outputs": [
        {
          "output_type": "stream",
          "text": [
            "Enter stringHello\n",
            "H\n"
          ],
          "name": "stdout"
        }
      ]
    },
    {
      "cell_type": "markdown",
      "metadata": {
        "id": "F_7MutInyPaa"
      },
      "source": [
        "Question 2"
      ]
    },
    {
      "cell_type": "code",
      "metadata": {
        "colab": {
          "base_uri": "https://localhost:8080/",
          "height": 52
        },
        "id": "cblRcRbAyRA-",
        "outputId": "bcad944d-62bd-41a0-d585-72c7ef7741b1"
      },
      "source": [
        "# lambda expression to extract first word of a string.\n",
        "\n",
        "print(\"enter the string:\")\n",
        "def divide(a):\n",
        " return(a.split()[0])\n",
        "\n",
        "divide(\"apple mango cherry jam \")\n"
      ],
      "execution_count": 3,
      "outputs": [
        {
          "output_type": "stream",
          "text": [
            "enter the string:\n"
          ],
          "name": "stdout"
        },
        {
          "output_type": "execute_result",
          "data": {
            "application/vnd.google.colaboratory.intrinsic+json": {
              "type": "string"
            },
            "text/plain": [
              "'apple'"
            ]
          },
          "metadata": {
            "tags": []
          },
          "execution_count": 3
        }
      ]
    },
    {
      "cell_type": "markdown",
      "metadata": {
        "id": "20GRJusDyinZ"
      },
      "source": [
        "Question 3"
      ]
    },
    {
      "cell_type": "code",
      "metadata": {
        "colab": {
          "base_uri": "https://localhost:8080/"
        },
        "id": "VKpaROjOykYy",
        "outputId": "ef4aa74f-c840-4a9b-db35-bdbf73162e9b"
      },
      "source": [
        "#Getting first word of all the strings using map function.\n",
        "\n",
        "lst = ['Hello','Hello friend','brother hello']\n",
        "\n",
        "list(map(x, lst))"
      ],
      "execution_count": 7,
      "outputs": [
        {
          "output_type": "execute_result",
          "data": {
            "text/plain": [
              "['Hello', 'Hello', 'brother']"
            ]
          },
          "metadata": {
            "tags": []
          },
          "execution_count": 7
        }
      ]
    },
    {
      "cell_type": "markdown",
      "metadata": {
        "id": "gDhMuJxyyrpy"
      },
      "source": [
        "Question 4"
      ]
    },
    {
      "cell_type": "code",
      "metadata": {
        "colab": {
          "base_uri": "https://localhost:8080/"
        },
        "id": "x_m3VrOqytoK",
        "outputId": "851c3863-79ea-43f0-8836-7ee4e2ef9605"
      },
      "source": [
        "import math\n",
        "\n",
        "def check_prime(x):\n",
        "    \"\"\"Function accept number and check whether the  number is a prime number or not\"\"\"\n",
        "    \n",
        "    for i in range(2,x):\n",
        "        if x % i == 0:\n",
        "            flag = False\n",
        "            break\n",
        "        else:\n",
        "            flag = True\n",
        "        \n",
        "    return flag\n",
        "\n",
        "def prime_factor(x):\n",
        "    \"\"\"Function accepts number and returns list of prime factors for it\"\"\"\n",
        "    factors = []\n",
        "    check = check_prime(x)\n",
        "    if not(check):\n",
        "        i = 2\n",
        "        while i <= x:            \n",
        "            if(x % i == 0):\n",
        "                factors.append(i)\n",
        "                x = math.floor(x // i)\n",
        "            else: \n",
        "                i += 1\n",
        "\n",
        "    else:\n",
        "        factors.append('Prime number')\n",
        "        \n",
        "    return factors\n",
        "prime_factor(168)"
      ],
      "execution_count": 15,
      "outputs": [
        {
          "output_type": "execute_result",
          "data": {
            "text/plain": [
              "[2, 2, 2, 3, 7]"
            ]
          },
          "metadata": {
            "tags": []
          },
          "execution_count": 15
        }
      ]
    },
    {
      "cell_type": "markdown",
      "metadata": {
        "id": "QXMKZABkyvwJ"
      },
      "source": [
        "Question 5"
      ]
    },
    {
      "cell_type": "code",
      "metadata": {
        "colab": {
          "base_uri": "https://localhost:8080/"
        },
        "id": "SCgFhYcQyxCh",
        "outputId": "188b1a94-caf2-468b-8662-b97f688ad486"
      },
      "source": [
        "#function to find 2nd largest among 4 numbers (Repetitions are allowed,without sorting).\n",
        "\n",
        "lst = [7,2,53,4]\n",
        "def remove_element(lst,element):\n",
        "    lst.remove(element)\n",
        "    return lst\n",
        "\n",
        "def second_largest(lst):\n",
        "    \"\"\"Function take list of the numeber and finds 2nd largest number\"\"\"\n",
        "    \n",
        "    for j in range(3):\n",
        "        lar = lst[0]\n",
        "        for i in range(len(lst)):\n",
        "            if lst[i] > lar:\n",
        "                lar = lst[i]\n",
        "                \n",
        "        if j != 2:\n",
        "            lst = remove_element(lst,lar)\n",
        "    return lar\n",
        "        \n",
        "second_largest(lst)"
      ],
      "execution_count": 16,
      "outputs": [
        {
          "output_type": "execute_result",
          "data": {
            "text/plain": [
              "4"
            ]
          },
          "metadata": {
            "tags": []
          },
          "execution_count": 16
        }
      ]
    }
  ]
}