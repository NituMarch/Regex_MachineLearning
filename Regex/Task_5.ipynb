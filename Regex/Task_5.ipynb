{
  "nbformat": 4,
  "nbformat_minor": 0,
  "metadata": {
    "colab": {
      "name": "Task_5.ipynb",
      "provenance": [],
      "collapsed_sections": []
    },
    "kernelspec": {
      "name": "python3",
      "display_name": "Python 3"
    },
    "language_info": {
      "name": "python"
    }
  },
  "cells": [
    {
      "cell_type": "markdown",
      "metadata": {
        "id": "5OYecXOvidFK"
      },
      "source": [
        "Nitesh Marchande        \n",
        "\n",
        "SIRSS1196   \n",
        "\n",
        "Task 5\n"
      ]
    },
    {
      "cell_type": "markdown",
      "metadata": {
        "id": "LG8oHqtygLqh"
      },
      "source": [
        "Q1. Given a list of integers, write a function to return the sum of all prime numbers in that list."
      ]
    },
    {
      "cell_type": "code",
      "metadata": {
        "id": "6xuYfHdlQixn",
        "colab": {
          "base_uri": "https://localhost:8080/"
        },
        "outputId": "4e6fd8f6-92a5-4b26-8836-df397b103a64"
      },
      "source": [
        "lower = int(input(\"Enter the lower range: \"))\n",
        "upper = int(input(\"Enter the upper range: \"))\n",
        "lst=[]\n",
        "print(\"Prime numbers between\",lower,\"and\",upper,\"are:\")\n",
        "\n",
        "for number in range(lower,upper + 1):\n",
        "\n",
        "   if number > 1:\n",
        "       for i in range(2,number):\n",
        "           if (number % i) == 0:\n",
        "\n",
        "               break\n",
        "       else:\n",
        "           print(number)\n",
        "           lst.append(number)\n",
        "print(lst)\n",
        "sum=0\n",
        "for i in lst:\n",
        "    sum=sum+i\n",
        "print('sum of all prime numbers in the list are : %d'%sum)"
      ],
      "execution_count": 2,
      "outputs": [
        {
          "output_type": "stream",
          "text": [
            "Enter the lower range: 2\n",
            "Enter the upper range: 10\n",
            "Prime numbers between 2 and 10 are:\n",
            "2\n",
            "3\n",
            "5\n",
            "7\n",
            "[2, 3, 5, 7]\n",
            "sum of all prime numbers in the list are : 17\n"
          ],
          "name": "stdout"
        }
      ]
    },
    {
      "cell_type": "markdown",
      "metadata": {
        "id": "Fbg1wJerhGzG"
      },
      "source": [
        "Q2. Given a list of integers, write a function to check whether the list is strictly increasing or\n",
        "not."
      ]
    },
    {
      "cell_type": "code",
      "metadata": {
        "id": "OuTRhznWeuIB",
        "colab": {
          "base_uri": "https://localhost:8080/"
        },
        "outputId": "2836d85a-6a08-425d-9038-9fb7b20dd865"
      },
      "source": [
        "\n",
        "a = int(input(\"Enter 1st no.\"))\n",
        "b = int(input(\"Enter 2st no.\"))\n",
        "c = int(input(\"Enter 3st no.\"))\n",
        "d = int(input(\"Enter 4st no.\"))\n",
        "\n",
        "test_list = a,b,c,d;\n",
        "\n",
        "# to print original list\n",
        "print (\"Original list : \" + str(test_list))\n",
        "\n",
        "# to check for strictly increasing list\n",
        "res = all(i < j for i, j in zip(test_list, test_list[1:]))\n",
        "5\n",
        "\n",
        "print (\"Is the list strictly increasing ? -: \" + str(res))\n"
      ],
      "execution_count": 3,
      "outputs": [
        {
          "output_type": "stream",
          "text": [
            "Enter 1st no.2\n",
            "Enter 2st no.6\n",
            "Enter 3st no.4\n",
            "Enter 4st no.6\n",
            "Original list : (2, 6, 4, 6)\n",
            "Is the list strictly increasing ? -: False\n"
          ],
          "name": "stdout"
        }
      ]
    },
    {
      "cell_type": "markdown",
      "metadata": {
        "id": "yJSRtXwvaXHS"
      },
      "source": [
        "Q3.Write a function to check whether a given list is expanding or not (the difference\n",
        "between adjacent elements should keep on increasing)."
      ]
    },
    {
      "cell_type": "code",
      "metadata": {
        "id": "su_frL4GaXr5",
        "colab": {
          "base_uri": "https://localhost:8080/"
        },
        "outputId": "931a4c37-abab-434a-de67-8de6e3377180"
      },
      "source": [
        "def exp(l):\n",
        "    diff=0\n",
        "    flag=False\n",
        "    for i in range(1,len(l)):\n",
        "        diff1=l[i]-l[i-1]\n",
        "        if diff>diff1:\n",
        "            flag=True\n",
        "            break\n",
        "        diff=diff1\n",
        "            \n",
        "    return  flag\n",
        "\n",
        "l1 = int(input(\"Enter no. of elements : \"))\n",
        "  \n",
        "list1 = list(map(int,input(\"\\nEnter the nos. : \").strip().split()))[:l1]\n",
        "\n",
        "print('List is expanding: ',exp(list1))"
      ],
      "execution_count": 4,
      "outputs": [
        {
          "output_type": "stream",
          "text": [
            "Enter no. of elements : 4\n",
            "\n",
            "Enter the nos. : 3\n",
            "List is expanding:  False\n"
          ],
          "name": "stdout"
        }
      ]
    },
    {
      "cell_type": "markdown",
      "metadata": {
        "id": "rnzv9wpaQaJ1"
      },
      "source": [
        "Q4.Write a function to calculate all permutations of a given string. (Without using itertools)\n",
        "\n",
        "\n"
      ]
    },
    {
      "cell_type": "code",
      "metadata": {
        "colab": {
          "base_uri": "https://localhost:8080/"
        },
        "id": "XAtYkMovQ-9k",
        "outputId": "948780c4-e340-436e-a13a-d495887d100a"
      },
      "source": [
        "def perm(string, steps = 0):\n",
        "    if steps == len(string):\n",
        "        print(\"\".join(string))\n",
        "\n",
        "    for i in range(steps, len(string)):\n",
        "\n",
        "        string_copy = [character for character in string]\n",
        "\n",
        "        string_copy[steps], string_copy[i] = string_copy[i], string_copy[steps]\n",
        "\n",
        "        perm(string_copy, steps + 1)\n",
        "perm(str(input(\"Enter the char.: \")))"
      ],
      "execution_count": 5,
      "outputs": [
        {
          "output_type": "stream",
          "text": [
            "Enter the char.: cgar\n",
            "cgar\n",
            "cgra\n",
            "cagr\n",
            "carg\n",
            "crag\n",
            "crga\n",
            "gcar\n",
            "gcra\n",
            "gacr\n",
            "garc\n",
            "grac\n",
            "grca\n",
            "agcr\n",
            "agrc\n",
            "acgr\n",
            "acrg\n",
            "arcg\n",
            "argc\n",
            "rgac\n",
            "rgca\n",
            "ragc\n",
            "racg\n",
            "rcag\n",
            "rcga\n"
          ],
          "name": "stdout"
        }
      ]
    }
  ]
}